{
 "cells": [
  {
   "cell_type": "code",
   "execution_count": null,
   "metadata": {},
   "outputs": [],
   "source": [
    "import re\n",
    "import json\n",
    "\n",
    "\n",
    "import pandas as pd\n",
    "\n",
    "from IPython.core.interactiveshell import InteractiveShell\n",
    "InteractiveShell.ast_node_interactivity = \"all\""
   ]
  },
  {
   "cell_type": "code",
   "execution_count": null,
   "metadata": {},
   "outputs": [],
   "source": [
    "pd.set_option('display.max_rows', 500)\n",
    "pd.set_option('display.max_columns', 80)"
   ]
  },
  {
   "cell_type": "markdown",
   "metadata": {},
   "source": [
    "# FG Scraper - Certificati -> Ente relational parsing\n",
    "\n",
    "Bisogna costruire una nuova colonna degli ENTI associati ai vari tipi di certificati. \n",
    "\n",
    "Si costruirà un dizionario {KEY: VALUE}, in cui, le chiavi saranno i certificati (numero certificato) e i valori gli ENTI associati."
   ]
  },
  {
   "cell_type": "code",
   "execution_count": null,
   "metadata": {},
   "outputs": [],
   "source": [
    "DATA_PATH = '../data/processed_enterprise/202208231620_processed_enterprise.parquet'\n",
    "\n",
    "df = pd.read_parquet(DATA_PATH)\n",
    "len(df)\n",
    "df.head()\n",
    "df.columns = sorted(df.columns)\n",
    "df.head()"
   ]
  },
  {
   "cell_type": "code",
   "execution_count": null,
   "metadata": {},
   "outputs": [],
   "source": [
    "d = {\n",
    "    'AICQ-SICEV': re.compile(r'(\\S+)\\SICEV'),\n",
    "    'AJA EUROPE': re.compile(r'(XPERT\\S+)|(AJA\\S+)'),\n",
    "    'APAVE': re.compile(r'FGAS\\S+'),\n",
    "    'BUREAU VERITAS_CEPAS': re.compile(r'IT\\d+'),\n",
    "    'CERTIQUALITY': re.compile(r'\\S+Certiquality'),\n",
    "    'DEKRA': 'DTC',\n",
    "    'DI.QU.': re.compile(r'\\S+-\\d{2}$'),\n",
    "    'ICMQ': re.compile(r'FG0\\S+'),\n",
    "    'IMQ': re.compile(r'303I\\S+'),\n",
    "    'INTERTEK': re.compile(r'ITK\\S+'),\n",
    "    'RINA': re.compile(r'\\S+/\\d{2}'),\n",
    "    'SGS': re.compile(r'IT\\d{2}/\\S+'),\n",
    "    'STS': re.compile(r'FGI\\.\\S+'),\n",
    "    'ITEC': re.compile(r'FGI\\d+'),\n",
    "    'TEC-EUROLAB': re.compile(r'F-\\S+'),\n",
    "    'TUV': re.compile(r'FLI\\S+'),\n",
    "    'KIWA': re.compile(r'(KI\\S+)|(ACVPR\\s\\S+)'),\n",
    "    'VERIGAS.IT': re.compile(r'VG\\S+')\n",
    "}"
   ]
  },
  {
   "cell_type": "code",
   "execution_count": null,
   "metadata": {},
   "outputs": [],
   "source": [
    "to_replace = list(d.values())\n",
    "replace_with = list(d.keys())\n",
    "# dietro le quinte il replace è eseguito con delle re.sub\n",
    "df['ENTE'] = df['Numero certificato'].replace(to_replace, replace_with, regex=True, )"
   ]
  },
  {
   "cell_type": "code",
   "execution_count": null,
   "metadata": {},
   "outputs": [],
   "source": [
    "df.loc[:, ['Numero certificato', 'ENTE']]"
   ]
  },
  {
   "cell_type": "code",
   "execution_count": null,
   "metadata": {},
   "outputs": [],
   "source": [
    "df['ENTE'].value_counts(dropna=False)"
   ]
  },
  {
   "cell_type": "code",
   "execution_count": null,
   "metadata": {},
   "outputs": [],
   "source": []
  }
 ],
 "metadata": {
  "kernelspec": {
   "display_name": "Python 3.9.13 ('.venv3.9')",
   "language": "python",
   "name": "python3"
  },
  "language_info": {
   "codemirror_mode": {
    "name": "ipython",
    "version": 3
   },
   "file_extension": ".py",
   "mimetype": "text/x-python",
   "name": "python",
   "nbconvert_exporter": "python",
   "pygments_lexer": "ipython3",
   "version": "3.9.13"
  },
  "orig_nbformat": 4,
  "vscode": {
   "interpreter": {
    "hash": "b93850bb842f8947f316d4abbea9a1494c38451463ad7eee7d18c008579f1a94"
   }
  }
 },
 "nbformat": 4,
 "nbformat_minor": 2
}
