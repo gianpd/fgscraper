{
 "cells": [
  {
   "cell_type": "code",
   "execution_count": null,
   "metadata": {},
   "outputs": [],
   "source": [
    "import os\n",
    "import sys\n",
    "import json\n",
    "import logging\n",
    "\n",
    "logging.basicConfig(stream=sys.stdout, format='%(asctime)-15s %(message)s',\n",
    "                level=logging.INFO, datefmt=None)\n",
    "logger = logging.getLogger(\"region-id-spyder\")"
   ]
  },
  {
   "cell_type": "code",
   "execution_count": null,
   "metadata": {},
   "outputs": [],
   "source": [
    "payload_dict = {\n",
    "    'FormatoReport': '3',\n",
    "    'GeneraReport': 'false',\n",
    "    'displayReport': 'display%3Anone%3B',\n",
    "    'flagAreaPub': 'True',\n",
    "    'DataFromSession': 'false',\n",
    "    'DownloadToken': '',\n",
    "    'NumRecord': '160',\n",
    "    'Nazionalita': 'I',\n",
    "    'IDRegione': '19',\n",
    "    'IstatProv': '083',\n",
    "    'Identificativo': '',\n",
    "    'RadioBtnDenominazione': 'C',\n",
    "    'Denominazione': '',\n",
    "    'NumCertProv': '',\n",
    "    'TipoSoggetto': 'I',\n",
    "    'IDAttivita_I': '',\n",
    "    'IDAttivita': ''}\n",
    "\n",
    "raw_payload = \"FormatoReport=3&GeneraReport=false&displayReport=display%3Anone%3B&flagAreaPub=True&DataFromSession=false&DownloadToken=&NumRecord=160&Nazionalita=I&IDRegione=19&IstatProv=083&Identificativo=&RadioBtnDenominazione=C&Denominazione=&NumCertProv=&TipoSoggetto=I&IDAttivita_I=&IDAttivita=\"\n"
   ]
  },
  {
   "cell_type": "code",
   "execution_count": null,
   "metadata": {},
   "outputs": [],
   "source": [
    "s = [key + '=' + value for key, value in payload_dict.items()]\n",
    "ss = '&'.join(s)\n",
    "print(ss)\n",
    "print(raw_payload)\n",
    "assert ss == raw_payload"
   ]
  },
  {
   "cell_type": "code",
   "execution_count": null,
   "metadata": {},
   "outputs": [],
   "source": [
    "with open('../../assets/regions-ids.json') as f:\n",
    "    regions = json.load(f)\n",
    "\n",
    "with open('../../assets/provinces-ids.json') as f:\n",
    "    provinces = json.load(f)\n",
    "len(regions), len(provinces)"
   ]
  },
  {
   "cell_type": "code",
   "execution_count": null,
   "metadata": {},
   "outputs": [],
   "source": [
    "data_path = '../../data/202207181700_Abruzzo_AQUILA.json'\n",
    "with open(data_path) as f:\n",
    "    d = json.loads(json.load(f))"
   ]
  },
  {
   "cell_type": "code",
   "execution_count": null,
   "metadata": {},
   "outputs": [],
   "source": []
  }
 ],
 "metadata": {
  "kernelspec": {
   "display_name": "Python 3.9.13 ('.venv3.9')",
   "language": "python",
   "name": "python3"
  },
  "language_info": {
   "codemirror_mode": {
    "name": "ipython",
    "version": 3
   },
   "file_extension": ".py",
   "mimetype": "text/x-python",
   "name": "python",
   "nbconvert_exporter": "python",
   "pygments_lexer": "ipython3",
   "version": "3.9.13"
  },
  "orig_nbformat": 4,
  "vscode": {
   "interpreter": {
    "hash": "b93850bb842f8947f316d4abbea9a1494c38451463ad7eee7d18c008579f1a94"
   }
  }
 },
 "nbformat": 4,
 "nbformat_minor": 2
}
