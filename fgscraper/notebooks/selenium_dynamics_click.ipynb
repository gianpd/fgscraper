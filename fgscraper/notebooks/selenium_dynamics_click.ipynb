{
 "cells": [
  {
   "cell_type": "code",
   "execution_count": null,
   "metadata": {},
   "outputs": [],
   "source": [
    "import os\n",
    "import sys\n",
    "import json\n",
    "import logging\n",
    "\n",
    "logging.basicConfig(stream=sys.stdout, format='%(asctime)-15s %(message)s',\n",
    "                level=logging.INFO, datefmt=None)\n",
    "logger = logging.getLogger(\"region-id-spyder\")\n",
    "\n",
    "# from selenium import webdriver\n",
    "# from selenium.webdriver.chrome.service import Service\n",
    "# from selenium.webdriver.common.by import By\n",
    "# from selenium.webdriver.chrome.options import Options\n",
    "\n",
    "from IPython.core.interactiveshell import InteractiveShell\n",
    "InteractiveShell.ast_node_interactivity = \"all\""
   ]
  },
  {
   "cell_type": "code",
   "execution_count": null,
   "metadata": {},
   "outputs": [],
   "source": [
    "# _url ='FAKE'\n",
    "# data1, data2 = None, None\n",
    "\n",
    "# t1 =  ([1,2,3], ['1', '2', '3'])\n",
    "# t2 = ([11,21,31], ['11', '21', '31'])\n",
    "# for data1, data2 in zip([None, t1, None, t1], [None, t2, t2, None]):\n",
    "#     print(data1, data2)\n",
    "#     if not data1 and not data2:\n",
    "#         logger.info(f'Problems with {_url}: not table1 and table2 founded.')\n",
    "#         continue\n",
    "\n",
    "#     full_dict = None\n",
    "#     d1 = {k: v for k, v in zip(*data1)} if data1 else None\n",
    "#     d2 = {k: v for k, v in zip(*data2)} if data2 else None\n",
    "#     if not d1 and d2:\n",
    "#         logger.info('Just Table 2 founded.')\n",
    "#         full_dict = d2\n",
    "#     elif d1 and not d2:\n",
    "#         logger.info('Just Table 1 founded.')\n",
    "#         full_dict = 1\n",
    "#     else:\n",
    "#         logger.info('Founded both table 1 and table 2.')\n",
    "#         d1.update(d2)\n",
    "#         full_dict = d1"
   ]
  },
  {
   "cell_type": "code",
   "execution_count": null,
   "metadata": {},
   "outputs": [],
   "source": [
    "from bs4 import BeautifulSoup\n",
    "\n",
    "import requests\n",
    "\n",
    "response = requests.get('https://www.fgas.it/RicercaSezC/DettaglioImpresa?id=EzQg0vVdxwYSGXlOmFnBVA%3d%3d')\n",
    "soup = BeautifulSoup(response.text, 'html.parser')"
   ]
  },
  {
   "cell_type": "code",
   "execution_count": null,
   "metadata": {},
   "outputs": [],
   "source": [
    "t1 = soup.find('table', 'editor-field')\n",
    "t2 = soup.find('table', 'dataTable dtCertificati')\n",
    "type(t1), type(t2)"
   ]
  },
  {
   "cell_type": "code",
   "execution_count": null,
   "metadata": {},
   "outputs": [],
   "source": [
    "# First table extraction\n",
    "strongs = t1.find_all('strong')\n",
    "cols1 = [strong.text for strong in strongs]\n",
    "values1 = [strong.find_next('td').text.replace(\n",
    "    '\\t', '').replace('\\n', '') for strong in strongs]\n",
    "cols1\n",
    "values1"
   ]
  },
  {
   "cell_type": "code",
   "execution_count": null,
   "metadata": {},
   "outputs": [],
   "source": [
    "table = soup.find('table', 'editor-field')\n",
    "strongs = table.find_all('strong')\n",
    "values = table.find_all(not_has_style)\n",
    "values[0]"
   ]
  },
  {
   "cell_type": "code",
   "execution_count": null,
   "metadata": {},
   "outputs": [],
   "source": [
    "strongs[0].text"
   ]
  },
  {
   "cell_type": "code",
   "execution_count": null,
   "metadata": {},
   "outputs": [],
   "source": [
    "data_path = '../../data/202207181700_Abruzzo_AQUILA.json'\n",
    "with open(data_path) as f:\n",
    "    d = json.loads(json.load(f))\n",
    "d['Result']['DataTable'][0][-1].split('|')[-1]"
   ]
  },
  {
   "cell_type": "code",
   "execution_count": null,
   "metadata": {},
   "outputs": [],
   "source": [
    "d['Result']['TotalRecords'], len(d['Result']['DataTable'])"
   ]
  },
  {
   "cell_type": "code",
   "execution_count": null,
   "metadata": {},
   "outputs": [],
   "source": [
    "dataTable_ids = list(map(lambda x: x[-1].split('|')[-1], d['Result']['DataTable']))\n",
    "len(dataTable_ids)\n",
    "dataTable_ids[0]"
   ]
  },
  {
   "cell_type": "code",
   "execution_count": null,
   "metadata": {},
   "outputs": [],
   "source": [
    "chrome_options = Options()\n",
    "chrome_options .add_argument(\"--headless\")\n",
    "chrome_options.add_argument(\"--no-sandbox\")\n",
    "\n",
    "url = 'https://www.fgas.it/RicercaSezC'\n",
    "HOME = os.path.expanduser(\"~\")\n",
    "webdriver_service = Service(f\"{HOME}/chromedriver/stable/chromedriver\")\n",
    "\n",
    "driver = webdriver.Chrome(service=webdriver_service, options=chrome_options)\n",
    "driver.implicitly_wait(3) # wait 10 seconds\n",
    "driver.get(url)"
   ]
  },
  {
   "cell_type": "code",
   "execution_count": null,
   "metadata": {},
   "outputs": [],
   "source": [
    "driver.get()"
   ]
  },
  {
   "cell_type": "code",
   "execution_count": null,
   "metadata": {},
   "outputs": [],
   "source": [
    "# class=\"fg-button ui-button ui-state-default\"\n",
    "a_pages = driver.find_elements(By.CLASS_NAME, \"fg-button ui-button ui-state-default\")\n",
    "a_pages"
   ]
  },
  {
   "cell_type": "code",
   "execution_count": null,
   "metadata": {},
   "outputs": [],
   "source": [
    "xpath = '//table[@class=\"dataTable\"]'\n",
    "tables = driver.find_elements(By.XPATH, xpath)\n",
    "len(tables)"
   ]
  },
  {
   "cell_type": "code",
   "execution_count": null,
   "metadata": {},
   "outputs": [],
   "source": [
    "tables[0].find_element(By.TAG_NAME, 'tbody').find_elements(By.TAG_NAME, 'tr')"
   ]
  },
  {
   "cell_type": "code",
   "execution_count": null,
   "metadata": {},
   "outputs": [],
   "source": [
    "# //*[@id=\"SezCTable\"]/tbody/tr[1]/td[2]/a\n",
    "# <a href=\"#\" onclick=\"$.fgas.showLoading('Attendere...');location.href='RicercaSezC/Dettaglio'+$(this).dataTableToRowData().split('|')[1]+'?id=' + $(this).dataTableToRowData().split('|')[2]\" original-title=\"Clicca per andare al dettaglio Impresa\">\n",
    "a_xpath = '//a[@href=\"#\"]'\n",
    "elements = driver.find_elements(By.XPATH, a_xpath)\n",
    "len(elements)"
   ]
  },
  {
   "cell_type": "code",
   "execution_count": null,
   "metadata": {},
   "outputs": [],
   "source": [
    "for el in elements:\n",
    "    print('accessible name: ', el.accessible_name)\n",
    "    print('tag name: ', el.tag_name)\n",
    "    print('text: ', el.text)"
   ]
  },
  {
   "cell_type": "code",
   "execution_count": null,
   "metadata": {},
   "outputs": [],
   "source": [
    "b_xpath = '//*[@id=\"SezCTable\"]/tbody/tr[1]/td[2]/a'\n",
    "es = driver.find_elements(By.XPATH, b_xpath)\n",
    "len(es)\n",
    "es"
   ]
  },
  {
   "cell_type": "code",
   "execution_count": null,
   "metadata": {},
   "outputs": [],
   "source": [
    "p_els = driver.find_elements(By.LINK_TEXT, \"BL TERMOIMPIANTI DI BARONE LUCIANO\")\n",
    "len(p_els)"
   ]
  },
  {
   "cell_type": "code",
   "execution_count": null,
   "metadata": {},
   "outputs": [],
   "source": []
  }
 ],
 "metadata": {
  "kernelspec": {
   "display_name": "Python 3.9.13 ('.venv3.9')",
   "language": "python",
   "name": "python3"
  },
  "language_info": {
   "codemirror_mode": {
    "name": "ipython",
    "version": 3
   },
   "file_extension": ".py",
   "mimetype": "text/x-python",
   "name": "python",
   "nbconvert_exporter": "python",
   "pygments_lexer": "ipython3",
   "version": "3.9.13"
  },
  "orig_nbformat": 4,
  "vscode": {
   "interpreter": {
    "hash": "b93850bb842f8947f316d4abbea9a1494c38451463ad7eee7d18c008579f1a94"
   }
  }
 },
 "nbformat": 4,
 "nbformat_minor": 2
}
